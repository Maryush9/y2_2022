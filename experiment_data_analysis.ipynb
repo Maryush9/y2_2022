{
  "nbformat": 4,
  "nbformat_minor": 0,
  "metadata": {
    "colab": {
      "name": "experiment_data_analysis.ipynb",
      "provenance": [],
      "history_visible": true,
      "authorship_tag": "ABX9TyO0BDM7h9fFks7+x4mAUiZ5",
      "include_colab_link": true
    },
    "kernelspec": {
      "name": "python3",
      "display_name": "Python 3"
    },
    "language_info": {
      "name": "python"
    },
    "widgets": {
      "application/vnd.jupyter.widget-state+json": {
        "a9fd6f3f4b2c4a81a9051d2f3a95f471": {
          "model_module": "@jupyter-widgets/controls",
          "model_name": "VBoxModel",
          "model_module_version": "1.5.0",
          "state": {
            "_dom_classes": [
              "widget-interact"
            ],
            "_model_module": "@jupyter-widgets/controls",
            "_model_module_version": "1.5.0",
            "_model_name": "VBoxModel",
            "_view_count": null,
            "_view_module": "@jupyter-widgets/controls",
            "_view_module_version": "1.5.0",
            "_view_name": "VBoxView",
            "box_style": "",
            "children": [
              "IPY_MODEL_ef3c8247a1fa48138caca4beb8d36f4a",
              "IPY_MODEL_43381abab90b4477a21b898d3b9876aa"
            ],
            "layout": "IPY_MODEL_2b2cd058a9f541529f1d33dcbcc63eae"
          }
        },
        "ef3c8247a1fa48138caca4beb8d36f4a": {
          "model_module": "@jupyter-widgets/controls",
          "model_name": "DropdownModel",
          "model_module_version": "1.5.0",
          "state": {
            "_dom_classes": [],
            "_model_module": "@jupyter-widgets/controls",
            "_model_module_version": "1.5.0",
            "_model_name": "DropdownModel",
            "_options_labels": [
              "predictions.csv",
              "07.29.22 PLR spectral sensitivity 5e-3 Rstar 5Hz PLR0012",
              "07.27.14 PLR spectral sensitivity 1e-3 Rstars 5Hz GP",
              "08.02.22 PLR spectral sesn 5e-3 Rstar 5Hz GP"
            ],
            "_view_count": null,
            "_view_module": "@jupyter-widgets/controls",
            "_view_module_version": "1.5.0",
            "_view_name": "DropdownView",
            "description": "Select folder :",
            "description_tooltip": null,
            "disabled": false,
            "index": 3,
            "layout": "IPY_MODEL_49c5066dd7a44e109871ada6b5ed2ca5",
            "style": "IPY_MODEL_356fbd1b7b6d44df91374c27a61d4b55"
          }
        },
        "43381abab90b4477a21b898d3b9876aa": {
          "model_module": "@jupyter-widgets/output",
          "model_name": "OutputModel",
          "model_module_version": "1.0.0",
          "state": {
            "_dom_classes": [],
            "_model_module": "@jupyter-widgets/output",
            "_model_module_version": "1.0.0",
            "_model_name": "OutputModel",
            "_view_count": null,
            "_view_module": "@jupyter-widgets/output",
            "_view_module_version": "1.0.0",
            "_view_name": "OutputView",
            "layout": "IPY_MODEL_94471b7ad2164ef59a4f9509483d7fd4",
            "msg_id": "",
            "outputs": [
              {
                "output_type": "stream",
                "name": "stdout",
                "text": [
                  "selectFile  /content/drive/MyDrive/Maria Gabriel/Data/08.02.22 PLR spectral sesn 5e-3 Rstar 5Hz GP\n"
                ]
              }
            ]
          }
        },
        "2b2cd058a9f541529f1d33dcbcc63eae": {
          "model_module": "@jupyter-widgets/base",
          "model_name": "LayoutModel",
          "model_module_version": "1.2.0",
          "state": {
            "_model_module": "@jupyter-widgets/base",
            "_model_module_version": "1.2.0",
            "_model_name": "LayoutModel",
            "_view_count": null,
            "_view_module": "@jupyter-widgets/base",
            "_view_module_version": "1.2.0",
            "_view_name": "LayoutView",
            "align_content": null,
            "align_items": null,
            "align_self": null,
            "border": null,
            "bottom": null,
            "display": null,
            "flex": null,
            "flex_flow": null,
            "grid_area": null,
            "grid_auto_columns": null,
            "grid_auto_flow": null,
            "grid_auto_rows": null,
            "grid_column": null,
            "grid_gap": null,
            "grid_row": null,
            "grid_template_areas": null,
            "grid_template_columns": null,
            "grid_template_rows": null,
            "height": null,
            "justify_content": null,
            "justify_items": null,
            "left": null,
            "margin": null,
            "max_height": null,
            "max_width": null,
            "min_height": null,
            "min_width": null,
            "object_fit": null,
            "object_position": null,
            "order": null,
            "overflow": null,
            "overflow_x": null,
            "overflow_y": null,
            "padding": null,
            "right": null,
            "top": null,
            "visibility": null,
            "width": null
          }
        },
        "49c5066dd7a44e109871ada6b5ed2ca5": {
          "model_module": "@jupyter-widgets/base",
          "model_name": "LayoutModel",
          "model_module_version": "1.2.0",
          "state": {
            "_model_module": "@jupyter-widgets/base",
            "_model_module_version": "1.2.0",
            "_model_name": "LayoutModel",
            "_view_count": null,
            "_view_module": "@jupyter-widgets/base",
            "_view_module_version": "1.2.0",
            "_view_name": "LayoutView",
            "align_content": null,
            "align_items": null,
            "align_self": null,
            "border": null,
            "bottom": null,
            "display": null,
            "flex": null,
            "flex_flow": null,
            "grid_area": null,
            "grid_auto_columns": null,
            "grid_auto_flow": null,
            "grid_auto_rows": null,
            "grid_column": null,
            "grid_gap": null,
            "grid_row": null,
            "grid_template_areas": null,
            "grid_template_columns": null,
            "grid_template_rows": null,
            "height": null,
            "justify_content": null,
            "justify_items": null,
            "left": null,
            "margin": null,
            "max_height": null,
            "max_width": null,
            "min_height": null,
            "min_width": null,
            "object_fit": null,
            "object_position": null,
            "order": null,
            "overflow": null,
            "overflow_x": null,
            "overflow_y": null,
            "padding": null,
            "right": null,
            "top": null,
            "visibility": null,
            "width": null
          }
        },
        "356fbd1b7b6d44df91374c27a61d4b55": {
          "model_module": "@jupyter-widgets/controls",
          "model_name": "DescriptionStyleModel",
          "model_module_version": "1.5.0",
          "state": {
            "_model_module": "@jupyter-widgets/controls",
            "_model_module_version": "1.5.0",
            "_model_name": "DescriptionStyleModel",
            "_view_count": null,
            "_view_module": "@jupyter-widgets/base",
            "_view_module_version": "1.2.0",
            "_view_name": "StyleView",
            "description_width": ""
          }
        },
        "94471b7ad2164ef59a4f9509483d7fd4": {
          "model_module": "@jupyter-widgets/base",
          "model_name": "LayoutModel",
          "model_module_version": "1.2.0",
          "state": {
            "_model_module": "@jupyter-widgets/base",
            "_model_module_version": "1.2.0",
            "_model_name": "LayoutModel",
            "_view_count": null,
            "_view_module": "@jupyter-widgets/base",
            "_view_module_version": "1.2.0",
            "_view_name": "LayoutView",
            "align_content": null,
            "align_items": null,
            "align_self": null,
            "border": null,
            "bottom": null,
            "display": null,
            "flex": null,
            "flex_flow": null,
            "grid_area": null,
            "grid_auto_columns": null,
            "grid_auto_flow": null,
            "grid_auto_rows": null,
            "grid_column": null,
            "grid_gap": null,
            "grid_row": null,
            "grid_template_areas": null,
            "grid_template_columns": null,
            "grid_template_rows": null,
            "height": null,
            "justify_content": null,
            "justify_items": null,
            "left": null,
            "margin": null,
            "max_height": null,
            "max_width": null,
            "min_height": null,
            "min_width": null,
            "object_fit": null,
            "object_position": null,
            "order": null,
            "overflow": null,
            "overflow_x": null,
            "overflow_y": null,
            "padding": null,
            "right": null,
            "top": null,
            "visibility": null,
            "width": null
          }
        },
        "e66fa291a3034d82af2f75df60a9e9af": {
          "model_module": "@jupyter-widgets/controls",
          "model_name": "SelectMultipleModel",
          "model_module_version": "1.5.0",
          "state": {
            "_dom_classes": [],
            "_model_module": "@jupyter-widgets/controls",
            "_model_module_version": "1.5.0",
            "_model_name": "SelectMultipleModel",
            "_options_labels": [
              "LED470_10",
              "LED470_11",
              "LED470_12",
              "LED470_13",
              "LED505_20",
              "LED505_21",
              "LED505_22",
              "LED505_23",
              "LED565_30",
              "LED565_31",
              "LED565_32",
              "LED565_33",
              "LED617_40",
              "LED617_41",
              "LED617_42",
              "LED617_43",
              "LED660_50",
              "LED660_51",
              "LED660_52",
              "LED660_53",
              "LED700_60",
              "LED700_61",
              "LED700_62",
              "LED700_63",
              "LED700_64"
            ],
            "_view_count": null,
            "_view_module": "@jupyter-widgets/controls",
            "_view_module_version": "1.5.0",
            "_view_name": "SelectMultipleView",
            "description": "Trials",
            "description_tooltip": null,
            "disabled": false,
            "index": [
              0
            ],
            "layout": "IPY_MODEL_22f2bfdde9fc4dfaa6ad8ec61e91145c",
            "rows": 5,
            "style": "IPY_MODEL_752d62c5cdb74704ac65370d0dc86092"
          }
        },
        "1fa74a5d2a3b42cd836d3a9470b5b3a1": {
          "model_module": "@jupyter-widgets/controls",
          "model_name": "SelectMultipleModel",
          "model_module_version": "1.5.0",
          "state": {
            "_dom_classes": [],
            "_model_module": "@jupyter-widgets/controls",
            "_model_module_version": "1.5.0",
            "_model_name": "SelectMultipleModel",
            "_options_labels": [
              "LE_radius_thresh",
              "LE_radius_NN",
              "RE_radius_thresh",
              "RE_radius_NN",
              "LE_radius_thresh_despiked",
              "LE_radius_NN_despiked",
              "RE_radius_thresh_despiked",
              "RE_radius_NN_despiked",
              "Average",
              "command"
            ],
            "_view_count": null,
            "_view_module": "@jupyter-widgets/controls",
            "_view_module_version": "1.5.0",
            "_view_name": "SelectMultipleView",
            "description": "Columns",
            "description_tooltip": null,
            "disabled": false,
            "index": [
              8
            ],
            "layout": "IPY_MODEL_eaf434d42e4e46259ac647ed0c61d87a",
            "rows": 5,
            "style": "IPY_MODEL_96313f30184d49fb888b2f4eaa594abd"
          }
        },
        "22f2bfdde9fc4dfaa6ad8ec61e91145c": {
          "model_module": "@jupyter-widgets/base",
          "model_name": "LayoutModel",
          "model_module_version": "1.2.0",
          "state": {
            "_model_module": "@jupyter-widgets/base",
            "_model_module_version": "1.2.0",
            "_model_name": "LayoutModel",
            "_view_count": null,
            "_view_module": "@jupyter-widgets/base",
            "_view_module_version": "1.2.0",
            "_view_name": "LayoutView",
            "align_content": null,
            "align_items": null,
            "align_self": null,
            "border": null,
            "bottom": null,
            "display": null,
            "flex": null,
            "flex_flow": null,
            "grid_area": null,
            "grid_auto_columns": null,
            "grid_auto_flow": null,
            "grid_auto_rows": null,
            "grid_column": null,
            "grid_gap": null,
            "grid_row": null,
            "grid_template_areas": null,
            "grid_template_columns": null,
            "grid_template_rows": null,
            "height": null,
            "justify_content": null,
            "justify_items": null,
            "left": null,
            "margin": null,
            "max_height": null,
            "max_width": null,
            "min_height": null,
            "min_width": null,
            "object_fit": null,
            "object_position": null,
            "order": null,
            "overflow": null,
            "overflow_x": null,
            "overflow_y": null,
            "padding": null,
            "right": null,
            "top": null,
            "visibility": null,
            "width": null
          }
        },
        "752d62c5cdb74704ac65370d0dc86092": {
          "model_module": "@jupyter-widgets/controls",
          "model_name": "DescriptionStyleModel",
          "model_module_version": "1.5.0",
          "state": {
            "_model_module": "@jupyter-widgets/controls",
            "_model_module_version": "1.5.0",
            "_model_name": "DescriptionStyleModel",
            "_view_count": null,
            "_view_module": "@jupyter-widgets/base",
            "_view_module_version": "1.2.0",
            "_view_name": "StyleView",
            "description_width": ""
          }
        },
        "eaf434d42e4e46259ac647ed0c61d87a": {
          "model_module": "@jupyter-widgets/base",
          "model_name": "LayoutModel",
          "model_module_version": "1.2.0",
          "state": {
            "_model_module": "@jupyter-widgets/base",
            "_model_module_version": "1.2.0",
            "_model_name": "LayoutModel",
            "_view_count": null,
            "_view_module": "@jupyter-widgets/base",
            "_view_module_version": "1.2.0",
            "_view_name": "LayoutView",
            "align_content": null,
            "align_items": null,
            "align_self": null,
            "border": null,
            "bottom": null,
            "display": null,
            "flex": null,
            "flex_flow": null,
            "grid_area": null,
            "grid_auto_columns": null,
            "grid_auto_flow": null,
            "grid_auto_rows": null,
            "grid_column": null,
            "grid_gap": null,
            "grid_row": null,
            "grid_template_areas": null,
            "grid_template_columns": null,
            "grid_template_rows": null,
            "height": null,
            "justify_content": null,
            "justify_items": null,
            "left": null,
            "margin": null,
            "max_height": null,
            "max_width": null,
            "min_height": null,
            "min_width": null,
            "object_fit": null,
            "object_position": null,
            "order": null,
            "overflow": null,
            "overflow_x": null,
            "overflow_y": null,
            "padding": null,
            "right": null,
            "top": null,
            "visibility": null,
            "width": null
          }
        },
        "96313f30184d49fb888b2f4eaa594abd": {
          "model_module": "@jupyter-widgets/controls",
          "model_name": "DescriptionStyleModel",
          "model_module_version": "1.5.0",
          "state": {
            "_model_module": "@jupyter-widgets/controls",
            "_model_module_version": "1.5.0",
            "_model_name": "DescriptionStyleModel",
            "_view_count": null,
            "_view_module": "@jupyter-widgets/base",
            "_view_module_version": "1.2.0",
            "_view_name": "StyleView",
            "description_width": ""
          }
        }
      }
    }
  },
  "cells": [
    {
      "cell_type": "markdown",
      "metadata": {
        "id": "view-in-github",
        "colab_type": "text"
      },
      "source": [
        "<a href=\"https://colab.research.google.com/github/Maryush9/y2_2022/blob/main/experiment_data_analysis.ipynb\" target=\"_parent\"><img src=\"https://colab.research.google.com/assets/colab-badge.svg\" alt=\"Open In Colab\"/></a>"
      ]
    },
    {
      "cell_type": "code",
      "source": [
        "#@title Imports\n",
        "import numpy as np    # library for numerical computations (vectors, matrices, tensors)\n",
        "import pandas as pd    # library for data manipulation and analysis\n",
        "import matplotlib.pyplot as plt\n",
        "from google.colab import drive\n",
        "drive.mount('/content/drive') \n",
        "import os\n",
        "import math\n",
        "from scipy import interpolate\n",
        "from scipy.fft import fft, fftfreq, fftshift, ifft\n",
        "from importlib import reload\n",
        "import ipywidgets as widgets\n",
        "from ipywidgets import interact, interact_manual\n",
        "import IPython.display\n",
        "from IPython.display import display, clear_output"
      ],
      "metadata": {
        "id": "pX8N2EID5NXn",
        "colab": {
          "base_uri": "https://localhost:8080/"
        },
        "outputId": "e0ab0a06-087b-4e25-da66-c0f0c5271938",
        "cellView": "form"
      },
      "execution_count": 1,
      "outputs": [
        {
          "output_type": "stream",
          "name": "stdout",
          "text": [
            "Mounted at /content/drive\n"
          ]
        }
      ]
    },
    {
      "cell_type": "code",
      "source": [
        ""
      ],
      "metadata": {
        "id": "Uiwjj7g_kUpD"
      },
      "execution_count": null,
      "outputs": []
    },
    {
      "cell_type": "code",
      "source": [
        "#@title Copying \"predicitons\" data of results form the folder\n",
        "#@markdown makes a data_dict dictionary with the name of a trial (key) and pandas dataframe of a trial\n",
        "path = '/content/drive/MyDrive/Maria Gabriel/Data' #default path to the root of Drive\n",
        "data_dict = {} \n",
        "while True:\n",
        "    try:\n",
        "        os.chdir(path)\n",
        "    except:\n",
        "        break\n",
        "    fileList = os.listdir()\n",
        "    # for item in fileList:\n",
        "    us = widgets.Dropdown(options = fileList, value=None, description='Select folder :')\n",
        "    def lala(user):\n",
        "      try:\n",
        "        selectedFilePath = '/content/drive/MyDrive/Maria Gabriel/Data/'+ user\n",
        "\n",
        "        os.chdir(user)\n",
        "        data_dict.clear()                         # cleans the dictionary, for reusing the code (changing folder)\n",
        "        print('selectFile ', selectedFilePath)\n",
        "        a = os.listdir()\n",
        "        for i in sorted(a):\n",
        "          if os.path.isdir(i):\n",
        "            data_dict[i] = pd.read_csv(selectedFilePath + '/' + i + '/' + 'predictions.csv')\n",
        "        os.chdir('/content/drive/MyDrive/Maria Gabriel/Data')\n",
        "      except TypeError:\n",
        "        print('Argument is missing\\nPlease select folder')\n",
        "\n",
        "          \n",
        "    widgets.interact(lala, user = us)\n",
        "\n",
        "\n",
        "\n",
        "    break"
      ],
      "metadata": {
        "colab": {
          "base_uri": "https://localhost:8080/",
          "height": 67,
          "referenced_widgets": [
            "a9fd6f3f4b2c4a81a9051d2f3a95f471",
            "ef3c8247a1fa48138caca4beb8d36f4a",
            "43381abab90b4477a21b898d3b9876aa",
            "2b2cd058a9f541529f1d33dcbcc63eae",
            "49c5066dd7a44e109871ada6b5ed2ca5",
            "356fbd1b7b6d44df91374c27a61d4b55",
            "94471b7ad2164ef59a4f9509483d7fd4"
          ]
        },
        "cellView": "form",
        "id": "3cTWFyD69ZhS",
        "outputId": "2e64d401-7320-47fa-e326-29f325e59959"
      },
      "execution_count": 2,
      "outputs": [
        {
          "output_type": "display_data",
          "data": {
            "text/plain": [
              "interactive(children=(Dropdown(description='Select folder :', options=('predictions.csv', '07.29.22 PLR spectr…"
            ],
            "application/vnd.jupyter.widget-view+json": {
              "version_major": 2,
              "version_minor": 0,
              "model_id": "a9fd6f3f4b2c4a81a9051d2f3a95f471"
            }
          },
          "metadata": {}
        }
      ]
    },
    {
      "cell_type": "markdown",
      "source": [
        "##Utilities"
      ],
      "metadata": {
        "id": "KMIyN_lptI-j"
      }
    },
    {
      "cell_type": "code",
      "source": [
        "def check_stim(dta):                     #basicaly  program just changes name of the column 'stim' to 'stimulus'\n",
        "  if 'stimulus' not in dta.keys():\n",
        "    dta.rename(columns = {'stim':'stimulus'}, inplace = True)\n",
        "\n",
        "  elif 'Average' not in dta.keys():\n",
        "    dta.rename(columns = {'average':'Average'}, inplace = True)  \n",
        "  return dta"
      ],
      "metadata": {
        "id": "ERHJO-SntjVH"
      },
      "execution_count": 28,
      "outputs": []
    },
    {
      "cell_type": "code",
      "source": [
        "def adding_points(a, scale):  #a is a numpy array, scale is an integer\n",
        "                              # \n",
        "\n",
        "  step = 1/scale\n",
        "  b = []\n",
        "  for p in a:\n",
        "    for i in range(int(scale)):\n",
        "        b.append(p)\n",
        "\n",
        "  x = np.arange(0, 5 , step)\n",
        "  return b\n",
        "\n"
      ],
      "metadata": {
        "id": "4Z043evAjs2U"
      },
      "execution_count": 29,
      "outputs": []
    },
    {
      "cell_type": "code",
      "source": [
        "def skipping_points(a, scale):\n",
        "  arr = np.empty((len(a)))\n",
        "\n",
        "  for i in range(len(a)):\n",
        "    if (i / scale)%1 == 0:\n",
        "      arr[i] = a[i]\n",
        "    else:\n",
        "\n",
        "      arr[i] = np.NaN\n",
        "  arr = arr[~np.isnan(arr)]\n",
        "  return arr\n",
        "      "
      ],
      "metadata": {
        "id": "nPLooNhRCejS"
      },
      "execution_count": 30,
      "outputs": []
    },
    {
      "cell_type": "code",
      "source": [
        "#@title The comparing program \n",
        "#@markdown Has three parameters: the dataframe, columns' names in the list format and the title\n",
        "#\n",
        "def comp_plot(data, column_list, title, **kwargs):\n",
        "  [from_t, to_t] = kwargs.get('subrange',[0,-1])\n",
        "\n",
        "  stim = data['stimulus']\n",
        "  x_stim = data['stim_time']#data[data.columns[12]]\n",
        "  x_data = data['time_s']\n",
        "  dx_stim = x_stim[1]\n",
        "  dx_data = x_data[1]\n",
        "\n",
        "  fig, axs = plt.subplots(2, 1, gridspec_kw={'height_ratios': [2, 1]}, figsize=(7, 7))\n",
        "  fig.suptitle(title)\n",
        "\n",
        "  for column in column_list:\n",
        "    axs[0].plot(x_data[int(from_t/dx_data):int(to_t/dx_data)], \n",
        "                data[column][int(from_t/dx_data):int(to_t/dx_data)],\n",
        "                label = column)\n",
        "  axs[0].legend(loc='upper right')\n",
        "  \n",
        "\n",
        "  axs[1].plot(x_stim[int(from_t/dx_stim):int(to_t/dx_stim)],\n",
        "              stim[int(from_t/dx_stim):int(to_t/dx_stim)],\n",
        "              label = 'Stimulus', \n",
        "              color = 'k')\n",
        "  plt.legend()\n",
        "  plt.show()  \n"
      ],
      "metadata": {
        "id": "jEayH_362xqd",
        "cellView": "form"
      },
      "execution_count": 31,
      "outputs": []
    },
    {
      "cell_type": "code",
      "source": [
        "#@title Calculate_experiment_filter code\n",
        "#@markdown gets data, timewindow and colum names as a features. Returns dataframe with filters for different columns\n",
        "\n",
        "def calculate_experiment_filter(starting_time, end_time, results_dataframe, col_list):\n",
        "  filter_dict = {}                       ## Temporal filters dictionary !!Change name to filter_dict\n",
        "  dta = results_dataframe\n",
        "  dta = check_stim(dta)               ##program changes name 'stim' to 'stimulus' if there is no stimulus-named column from the start\n",
        "\n",
        "  stim = dta['stimulus'].dropna() \n",
        "  stim_t = dta['stim_time'].dropna().to_numpy()\n",
        "  stim_dt = stim_t[1]                           ## sampling interval of stimulus\n",
        "  stim = stim.to_numpy()\n",
        "\n",
        "\n",
        "  t = dta['time_s'].dropna()                    ## target x-axis \n",
        "  dt = t[1]                                     ## sampling interval of target data\n",
        "  n = len(t[int(starting_time/dt): int(end_time/dt)])\n",
        "  add = int(stim_dt/dt)\n",
        "\n",
        "  # comparing the sampling rate between stimulus and results. Adding or skipping points in stimulus\n",
        "  # to fit result data \n",
        "\n",
        "  if len(stim_t) < len(t):\n",
        "    if (stim_dt/dt)% 1 != 0 or stim_dt == 0:\n",
        "      print('not an apropriate data')\n",
        "      return ValueError\n",
        "\n",
        "    else:\n",
        "      stim = adding_points(stim, add)\n",
        "      xx = np.arange(0, stim_t[-1]+stim_dt, stim_dt/add)\n",
        "      stim_new_dt = stim_dt/add\n",
        "\n",
        "\n",
        "  elif len(stim_t) >len(t):\n",
        "    if (dt/stim_dt)% 1 != 0 or stim_dt == 0:\n",
        "      print('not an apropriate data')\n",
        "      return ValueError\n",
        "\n",
        "    else:\n",
        "\n",
        "      skip_factor = int(dt/stim_dt)                                         # Skip_factor tells how many points stim data is bigger than result \n",
        "                                                                            # in skipping points every nth is skipped according to the factor\n",
        "      stim_new_dt = stim_dt * skip_factor\n",
        "      stim = skipping_points(stim, skip_factor)\n",
        "\n",
        "      \n",
        "  stim_full_FFT = fft(stim)\n",
        "\n",
        "  stim_FFT = fft(stim[int(starting_time/dt): int(end_time/dt)])             # getting fft from stimulus, only neded timewindow \n",
        "  stim_FFT_conj = np.conj(stim_FFT)\n",
        "\n",
        "  for trial_name in col_list:\n",
        "    data = dta[trial_name].dropna()  #\n",
        "    \n",
        "    target_FFT = fft(data[int(starting_time/dt): int(end_time/dt)].to_numpy())#, len(stim_FFT_conj))\n",
        "\n",
        "\n",
        "    filter = target_FFT * stim_FFT_conj\n",
        "   \n",
        "    temporal_filter = ifft(filter)\n",
        "    filter_dict[trial_name] = temporal_filter.astype('float64')\n",
        "  temporal_filters_DF = pd.DataFrame(filter_dict)\n",
        "  return temporal_filters_DF"
      ],
      "metadata": {
        "id": "R43FlDhMXX20",
        "cellView": "form"
      },
      "execution_count": 32,
      "outputs": []
    },
    {
      "cell_type": "code",
      "source": [
        "#@title Baseline \n",
        "#@markdown is getting:\n",
        "#@markdown a ist of  arrays, needed to be zeroed, \n",
        "#@markdown delta_x to get right points and time window\n",
        "\n",
        "def baseline(arr_list, dx, time):\n",
        "  from_t = time[0]\n",
        "  to_t = time[1]\n",
        "  new_list = []\n",
        "  for arr in arr_list:\n",
        "    # print('format', arr.type())\n",
        "    part = []\n",
        "    part = arr_list[arr][int(from_t/dx):int(to_t/dx)]\n",
        "    new_arr = part - np.average(part)\n",
        "    new_list.append(new_arr)\n",
        "  return new_list\n"
      ],
      "metadata": {
        "id": "JeKoh2Fdn62Y"
      },
      "execution_count": 33,
      "outputs": []
    },
    {
      "cell_type": "markdown",
      "source": [
        "Add optional (kwarg) parameter to plot only subrange, for example from 5 to 10 seconds"
      ],
      "metadata": {
        "id": "bM_xMAifR8Td"
      }
    },
    {
      "cell_type": "code",
      "source": [
        "#@title Claculate and plot filter\n",
        "  \n",
        "def calculate_and_plot_filter(dta, name, col_list, calc_from, calc_to, plot_from, plot_to):\n",
        "  filter = calculate_experiment_filter(calc_from, calc_to, dta, col_list) # program gets a and b as a time window neede to be filtered,\n",
        "                                                            # data with all columns and column list,\n",
        "                                                            # that are interesting for the analysis.\n",
        "                                                           \n",
        "   # Program returns a pandas dataframe with filters of all columns \n",
        "  reload(plt)\n",
        "  xt = dta['time_s'].dropna()\n",
        "  xt = xt[:len(xt)-3]\n",
        "  xt_dt = xt[1]\n",
        "\n",
        "  plot_filter(filter, xt, [plot_from, plot_to], col_list, name, calc_from)\n",
        "  # plt.show()\n",
        "  return filter\n",
        "\n"
      ],
      "metadata": {
        "id": "EEzJ8w7__vC2"
      },
      "execution_count": 34,
      "outputs": []
    },
    {
      "cell_type": "code",
      "source": [
        "#@title Plots zeroed\n",
        "def plot_filter(filter, xt, plot_ft, col_list, name, calc_from):  #plot_ft = [plot from, plot to]\n",
        "  a = calc_from\n",
        "  plot_from = plot_ft[0]\n",
        "  plot_to = plot_ft[1]\n",
        "  xt_dt = xt[1]\n",
        "  zeroed_filter = baseline(filter, xt_dt, [plot_from, plot_to])\n",
        "  for i in range (len(col_list)):\n",
        "    plt.plot(xt[int(a + plot_from/xt_dt):int(a + plot_to/xt_dt)], zeroed_filter[i],label = col_list[i])\n",
        "\n",
        "  plt.xlabel('time [s]') \n",
        "  plt.ylabel('zeroed amplitude') \n",
        "  plt.title('filter for a wavelngth ' + name)\n",
        "  plt.legend()\n",
        "  plt.show()"
      ],
      "metadata": {
        "id": "1hzxkZvq2qnj"
      },
      "execution_count": 35,
      "outputs": []
    },
    {
      "cell_type": "code",
      "source": [
        ""
      ],
      "metadata": {
        "id": "f1u83HY_LwjT"
      },
      "execution_count": 35,
      "outputs": []
    },
    {
      "cell_type": "markdown",
      "source": [
        "##Plot raw data"
      ],
      "metadata": {
        "id": "vKj8KAkUadGP"
      }
    },
    {
      "cell_type": "code",
      "source": [
        "#@title Plot result vs stimulus\n",
        "plot_from = 0#@param {type:\"number\"}\n",
        "plot_to = -1#@param {type:\"number\"}\n",
        "for i in data_dict:\n",
        "  comp_plot(data_dict[i], ['Average'], i, subrange = [plot_from, plot_to])\n",
        "\n",
        "\n"
      ],
      "metadata": {
        "id": "4vUaVkjHbfnF",
        "cellView": "form"
      },
      "execution_count": null,
      "outputs": []
    },
    {
      "cell_type": "code",
      "source": [
        "## plotts together in one plot all chosen columns\n",
        "## uses a programm to plot all needed together"
      ],
      "metadata": {
        "id": "M7iL1-fYbGf4"
      },
      "execution_count": null,
      "outputs": []
    },
    {
      "cell_type": "markdown",
      "source": [
        "## Calculate filters from every trial trial"
      ],
      "metadata": {
        "id": "18Qx7tlRLw1t"
      }
    },
    {
      "cell_type": "code",
      "source": [
        "#@title Chose columns and trials to filter and plot\n",
        "ll = list(data_dict.keys())\n",
        "columns = list(data_dict[ll[0]].keys())\n",
        "for i in columns:\n",
        "  if i in ['stimulus', 'command', 'stim_time', 'time_s']:\n",
        "    columns.remove(i)\n",
        "\n",
        "columns_drop = widgets.SelectMultiple(\n",
        "    options=columns,\n",
        "    value=['Average'],\n",
        "    description='Columns',\n",
        "    disabled=False\n",
        ")\n",
        "\n",
        "columns_drop\n",
        "\n",
        "trials_drop = widgets.SelectMultiple(\n",
        "    options = ll,\n",
        "    value=[ll[0]],\n",
        "    description='Trials',\n",
        "    disabled=False\n",
        ")\n",
        "display(trials_drop)\n",
        "display(columns_drop)"
      ],
      "metadata": {
        "colab": {
          "base_uri": "https://localhost:8080/",
          "height": 203,
          "referenced_widgets": [
            "e66fa291a3034d82af2f75df60a9e9af",
            "1fa74a5d2a3b42cd836d3a9470b5b3a1",
            "22f2bfdde9fc4dfaa6ad8ec61e91145c",
            "752d62c5cdb74704ac65370d0dc86092",
            "eaf434d42e4e46259ac647ed0c61d87a",
            "96313f30184d49fb888b2f4eaa594abd"
          ]
        },
        "cellView": "form",
        "id": "L742cIheBs_K",
        "outputId": "e6ecc834-09ea-4b40-a488-dbf92c9199f1"
      },
      "execution_count": 41,
      "outputs": [
        {
          "output_type": "display_data",
          "data": {
            "text/plain": [
              "SelectMultiple(description='Trials', index=(0,), options=('LED470_10', 'LED470_11', 'LED470_12', 'LED470_13', …"
            ],
            "application/vnd.jupyter.widget-view+json": {
              "version_major": 2,
              "version_minor": 0,
              "model_id": "e66fa291a3034d82af2f75df60a9e9af"
            }
          },
          "metadata": {}
        },
        {
          "output_type": "display_data",
          "data": {
            "text/plain": [
              "SelectMultiple(description='Columns', index=(8,), options=('LE_radius_thresh', 'LE_radius_NN', 'RE_radius_thre…"
            ],
            "application/vnd.jupyter.widget-view+json": {
              "version_major": 2,
              "version_minor": 0,
              "model_id": "1fa74a5d2a3b42cd836d3a9470b5b3a1"
            }
          },
          "metadata": {}
        }
      ]
    },
    {
      "cell_type": "code",
      "source": [
        "#@title Calculates and plots all flters\n",
        "calc_from =   5#@param {type:\"number\"}                       # window for calculating the filter a = start\n",
        "calc_to =    69 #@param {type:\"number\"}                       # b = end\n",
        "plot_from =  0  #@param {type:\"number\"}               # this is the boundary of a plotting window \n",
        "plot_to =    5  #@param {type:\"number\"}\n",
        "\n",
        "col_list =  list(columns_drop.value)\n",
        "filters_dict = data_dict.copy()\n",
        "trial_list = list(trials_drop.value)\n",
        "\n",
        "for trial in data_dict:\n",
        "  if trial in trial_list:\n",
        "    filter = calculate_and_plot_filter(data_dict[trial], trial, col_list, calc_from, calc_to, plot_from, plot_to)\n",
        "    filters_dict[trial] = filter\n",
        "\n",
        "\n",
        "# print(filters_df.columns.to_list())"
      ],
      "metadata": {
        "id": "J7Y1Yg-2GKkJ",
        "colab": {
          "base_uri": "https://localhost:8080/",
          "height": 313
        },
        "outputId": "e4e6f77d-60a0-4444-d452-02c51ea95c01"
      },
      "execution_count": 42,
      "outputs": [
        {
          "output_type": "stream",
          "name": "stderr",
          "text": [
            "/usr/local/lib/python3.7/dist-packages/ipykernel_launcher.py:61: ComplexWarning: Casting complex values to real discards the imaginary part\n"
          ]
        },
        {
          "output_type": "display_data",
          "data": {
            "text/plain": [
              "<Figure size 432x288 with 1 Axes>"
            ],
            "image/png": "[encoded data removed]"
          },
          "metadata": {
            "needs_background": "light"
          }
        }
      ]
    },
    {
      "cell_type": "markdown",
      "source": [
        "##Just some tests"
      ],
      "metadata": {
        "id": "r6yZJczxnyHv"
      }
    },
    {
      "cell_type": "code",
      "source": [
        "plt.plot(filters_dict['LED617_40']['Average'])"
      ],
      "metadata": {
        "colab": {
          "base_uri": "https://localhost:8080/",
          "height": 283
        },
        "id": "oaFWHFi8mO3u",
        "outputId": "c1ca1da9-da52-4f63-b62a-b2b42c2d1b6b"
      },
      "execution_count": 47,
      "outputs": [
        {
          "output_type": "execute_result",
          "data": {
            "text/plain": [
              "[<matplotlib.lines.Line2D at 0x7f1fbe93c390>]"
            ]
          },
          "metadata": {},
          "execution_count": 47
        },
        {
          "output_type": "display_data",
          "data": {
            "text/plain": [
              "<Figure size 432x288 with 1 Axes>"
            ],
            "image/png": "[encoded data removed]"
          },
          "metadata": {
            "needs_background": "light"
          }
        }
      ]
    },
    {
      "cell_type": "code",
      "source": [
        "#@title Plotts all averages of filters of same LED on one plot\n",
        "col_list = ['Average']\n",
        "for trial in filters_dict:\n",
        "  plt.plot(xt[int(a + plot_from/xt_dt):int(a + plot_to/xt_dt)], zh[i],label = col_list[i])\n",
        "\n",
        "plt.xlabel('time [s]') \n",
        "plt.ylabel('zeroed amplitude') \n",
        "plt.title('filter for a wavelngth ' + name)\n",
        "plt.legend()\n",
        "plt.show()"
      ],
      "metadata": {
        "colab": {
          "base_uri": "https://localhost:8080/",
          "height": 244
        },
        "id": "c-8IWenqBOEs",
        "outputId": "81cd067a-f2e5-49aa-9211-e594d7179ebe"
      },
      "execution_count": null,
      "outputs": [
        {
          "output_type": "error",
          "ename": "NameError",
          "evalue": "ignored",
          "traceback": [
            "\u001b[0;31m---------------------------------------------------------------------------\u001b[0m",
            "\u001b[0;31mNameError\u001b[0m                                 Traceback (most recent call last)",
            "\u001b[0;32m<ipython-input-138-5506222a3c3b>\u001b[0m in \u001b[0;36m<module>\u001b[0;34m()\u001b[0m\n\u001b[1;32m      2\u001b[0m \u001b[0mcol_list\u001b[0m \u001b[0;34m=\u001b[0m \u001b[0;34m[\u001b[0m\u001b[0;34m'Average'\u001b[0m\u001b[0;34m]\u001b[0m\u001b[0;34m\u001b[0m\u001b[0;34m\u001b[0m\u001b[0m\n\u001b[1;32m      3\u001b[0m \u001b[0;32mfor\u001b[0m \u001b[0mtrial\u001b[0m \u001b[0;32min\u001b[0m \u001b[0mfilters_dict\u001b[0m\u001b[0;34m:\u001b[0m\u001b[0;34m\u001b[0m\u001b[0;34m\u001b[0m\u001b[0m\n\u001b[0;32m----> 4\u001b[0;31m   \u001b[0mplt\u001b[0m\u001b[0;34m.\u001b[0m\u001b[0mplot\u001b[0m\u001b[0;34m(\u001b[0m\u001b[0mxt\u001b[0m\u001b[0;34m[\u001b[0m\u001b[0mint\u001b[0m\u001b[0;34m(\u001b[0m\u001b[0ma\u001b[0m \u001b[0;34m+\u001b[0m \u001b[0mplot_from\u001b[0m\u001b[0;34m/\u001b[0m\u001b[0mxt_dt\u001b[0m\u001b[0;34m)\u001b[0m\u001b[0;34m:\u001b[0m\u001b[0mint\u001b[0m\u001b[0;34m(\u001b[0m\u001b[0ma\u001b[0m \u001b[0;34m+\u001b[0m \u001b[0mplot_to\u001b[0m\u001b[0;34m/\u001b[0m\u001b[0mxt_dt\u001b[0m\u001b[0;34m)\u001b[0m\u001b[0;34m]\u001b[0m\u001b[0;34m,\u001b[0m \u001b[0mzh\u001b[0m\u001b[0;34m[\u001b[0m\u001b[0mi\u001b[0m\u001b[0;34m]\u001b[0m\u001b[0;34m,\u001b[0m\u001b[0mlabel\u001b[0m \u001b[0;34m=\u001b[0m \u001b[0mcol_list\u001b[0m\u001b[0;34m[\u001b[0m\u001b[0mi\u001b[0m\u001b[0;34m]\u001b[0m\u001b[0;34m)\u001b[0m\u001b[0;34m\u001b[0m\u001b[0;34m\u001b[0m\u001b[0m\n\u001b[0m\u001b[1;32m      5\u001b[0m \u001b[0;34m\u001b[0m\u001b[0m\n\u001b[1;32m      6\u001b[0m \u001b[0mplt\u001b[0m\u001b[0;34m.\u001b[0m\u001b[0mxlabel\u001b[0m\u001b[0;34m(\u001b[0m\u001b[0;34m'time [s]'\u001b[0m\u001b[0;34m)\u001b[0m\u001b[0;34m\u001b[0m\u001b[0;34m\u001b[0m\u001b[0m\n",
            "\u001b[0;31mNameError\u001b[0m: name 'xt' is not defined"
          ]
        }
      ]
    },
    {
      "cell_type": "code",
      "execution_count": null,
      "metadata": {
        "id": "LYkvPV7Uvnxz",
        "cellView": "form"
      },
      "outputs": [],
      "source": [
        "\n",
        "#@title Copying data form the folder\n",
        "#@markdown old version\n",
        "# path = '/content/drive/MyDrive/Maria Gabriel/Data' #default path to the root of Drive\n",
        "# data_dict = {} \n",
        "# while True:\n",
        "#     try:\n",
        "#         os.chdir(path)\n",
        "#     except:\n",
        "#         break\n",
        "#     fileList = os.listdir()\n",
        "#     i = 1\n",
        "#     for item in fileList:\n",
        "#         print('['+str(i)+'] '+item)\n",
        "#         i+=1\n",
        "#     user = input('\\nEnter the number of the file/folder: ')\n",
        "#     selectedFilePath = '/content/drive/MyDrive/Maria Gabriel/Data/'+ fileList[int(user) - 1]\n",
        "#     os.chdir(fileList[int(user) - 1])\n",
        "#     print('selectFile ', selectedFilePath)\n",
        "#     a = os.listdir()\n",
        "#     for i in sorted(a):\n",
        "#       if os.path.isdir(i):\n",
        "#         data_dict[i] = pd.read_csv(selectedFilePath + '/' + i + '/' + 'predictions.csv')\n",
        "\n",
        "\n",
        "#     break\n"
      ]
    },
    {
      "cell_type": "code",
      "source": [
        "starting_time = 5\n",
        "end_time = 69"
      ],
      "metadata": {
        "id": "aXbKfMrM2XWW"
      },
      "execution_count": null,
      "outputs": []
    },
    {
      "cell_type": "code",
      "source": [
        "ll = list(data_dict.keys())\n",
        "col_list = ['Average']\n",
        "LEDs = []\n",
        "starting_time = 5\n",
        "end_time = 69\n",
        "a = calc_from\n",
        "plot_from = 0\n",
        "plot_to = 5\n",
        "xt = data_dict[ll[0]]['time_s'].dropna()\n",
        "xt_dt = xt[1]\n",
        "\n",
        "\n",
        "for i in ll:\n",
        "  if i[3:6] not in LEDs:\n",
        "    LEDs.append(i[3:6])\n",
        "for trial in data_dict: \n",
        "  if trial[3:6] in LEDs:\n",
        "    filter = calculate_experiment_filter(starting_time, end_time, data_dict[trial], col_list)\n",
        "    zh = baseline(filter, xt_dt, [plot_from, plot_to])\n",
        "    for i in zh:\n",
        "      plt.plot(xt[int(a + plot_from/xt_dt):int(a + plot_to/xt_dt)], zh[i],label = col_list[i])\n",
        "    plt.title(trial[3:6])\n",
        "  plt.show()\n",
        "\n"
      ],
      "metadata": {
        "id": "aXAHr3CJAt-s"
      },
      "execution_count": null,
      "outputs": []
    },
    {
      "cell_type": "code",
      "source": [
        "trial_list = ['LED470_10', 'LED470_11', 'LED470_12', 'LED470_13']\n",
        "column_list = ['Average']\n",
        "\n",
        "def plot_together(trial_list, column_list):\n",
        "  "
      ],
      "metadata": {
        "id": "N6gSWvOMlE_U"
      },
      "execution_count": null,
      "outputs": []
    }
  ]
}